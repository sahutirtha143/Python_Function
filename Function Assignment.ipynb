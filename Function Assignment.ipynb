{
 "cells": [
  {
   "cell_type": "code",
   "execution_count": null,
   "id": "86dae7ee-7d51-47d6-ba0a-2d1ab59d81f8",
   "metadata": {},
   "outputs": [],
   "source": [
    "#******************* Functions Questions And Answers ****************************"
   ]
  },
  {
   "cell_type": "code",
   "execution_count": 17,
   "id": "ed68d6cb-6a4d-4341-ab9a-4a528688410a",
   "metadata": {},
   "outputs": [
    {
     "ename": "IndentationError",
     "evalue": "unindent does not match any outer indentation level (<string>, line 11)",
     "output_type": "error",
     "traceback": [
      "  \u001b[36mFile \u001b[39m\u001b[32m<string>:11\u001b[39m\n\u001b[31m    \u001b[39m\u001b[31m-->METOHD: A method is a function that is associated with an object and is called using the object.\u001b[39m\n                                                                                                        ^\n\u001b[31mIndentationError\u001b[39m\u001b[31m:\u001b[39m unindent does not match any outer indentation level\n"
     ]
    }
   ],
   "source": [
    "#Functions Questions And Answers\n",
    "\n",
    " #_01_What is the difference between a function and a method in Python?\n",
    "    -->FUNCTION: A function in Python is a reusable block of code defined using def, which can be called independently.\n",
    "       Example: \n",
    "       def greet(name):\n",
    "         return f\"Hello, {name}!\"\n",
    "\n",
    "       print(greet(\"Alice\"))  # Output: Hello, Alice!\n",
    "\n",
    "   -->METOHD: A method is a function that is associated with an object and is called using the object. \n",
    "              Methods are   defined    inside classes and operate on instance data.\n",
    "      Example:\n",
    "      class Person:\n",
    "         def __init__(self, name):\n",
    "            self.name = name\n",
    "\n",
    "         def greet(self):\n",
    "            return f\"Hello, {self.name}!\"\n",
    "\n",
    "      p = Person(\"Alice\")\n",
    "      print(p.greet())  # Output: Hello, Alice!\n",
    "\n",
    "      \n",
    " #_02_Explain the concept of function arguments and parameters in Python\n",
    "   -->In Python, parameters are variables listed in a function’s definition, while arguments are the actual values passed  \n",
    "      to a function when calling it.\n",
    "       Example:\n",
    "      def add(a, b):  # 'a' and 'b' are parameters\n",
    "         return a + b\n",
    "\n",
    "      result = add(5, 3)  # '5' and '3' are arguments\n",
    "      print(result)  # Output: 8\n",
    "\n",
    "   \n",
    " #_3_What are the different ways to define and call a function in Python?\n",
    "   -->1. Standard Function: A function is defined using def and called by its name.\n",
    "         Example: \n",
    "         def greet(name):\n",
    "            return f\"Hello, {name}!\"\n",
    "\n",
    "         print(greet(\"Alice\"))  # Output: Hello, Alice!\n",
    "\n",
    "   -->2. Function with Default Arguments: Provides default values if no argument is passed.\n",
    "         Example: \n",
    "         def greet(name=\"Guest\"):\n",
    "            return f\"Hello, {name}!\"\n",
    "\n",
    "         print(greet())          # Output: Hello, Guest!\n",
    "         print(greet(\"Alice\"))   # Output: Hello, Alice!\n",
    "\n",
    "   -->3. Function with Variable Arguments (*args): Used when the number of arguments is unknown.\n",
    "         Example: \n",
    "         def add_numbers(*nums):\n",
    "            return sum(nums)\n",
    "\n",
    "         print(add_numbers(1, 2, 3, 4))  # Output: 10\n",
    "   \n",
    "   -->4. Function with Keyword Arguments (**kwargs): Accepts any number of named arguments as a dictionary.\n",
    "         Example: \n",
    "         def person_info(**details):\n",
    "            return details\n",
    "\n",
    "         print(person_info(name=\"Alice\", age=25))  # Output: {'name': 'Alice', 'age': 25}\n",
    "   \n",
    "   -->5. Lambda Function (Anonymous Function): A single-line function using lambda.\n",
    "         Example: \n",
    "         dsquare = lambda x: x * x\n",
    "         print(square(5))  # Output: 25\n",
    "   \n",
    "   -->6. Function inside a Function (Nested Function): A function defined inside another function.\n",
    "         Example: \n",
    "        def outer():\n",
    "            def inner():\n",
    "               return \"Hello from inner function!\"\n",
    "            return inner()\n",
    "\n",
    "         print(outer())  # Output: Hello from inner function!0\n",
    "   \n",
    "   -->7. Function as an Argument: A function can be passed as an argument to another function.\n",
    "         Example: \n",
    "        def shout(text):\n",
    "            return text.upper()\n",
    "\n",
    "         def display(func, text):\n",
    "            print(func(text))\n",
    "\n",
    "         display(shout, \"hello\")  # Output: HELLO\n",
    "\n",
    "   \n",
    "   -->8. Recursive Function: A function that calls itself.\n",
    "         Example: \n",
    "         def factorial(n):\n",
    "            if n == 1:\n",
    "                return 1\n",
    "         return n * factorial(n - 1)\n",
    "\n",
    "         print(factorial(5))  # Output: 120\n",
    "\n",
    "   \n",
    " #_4_What is the purpose of the `return` statement in a Python function?\n",
    "   -->The return statement in a Python function is used to send a value back to the caller and terminate the function’s    \n",
    "   execution.\n",
    "   Key Uses:\n",
    "   -->Returning a Single Value\n",
    "   -->Returning Multiple Values (as a Tuple)\n",
    "   -->Using return to Exit Early\n",
    "   -->Returning Nothing (None) If no return is specified, the function returns None by default.\n",
    "      Example:\n",
    "      def greet():\n",
    "         print(\"Hello!\")\n",
    "\n",
    "         print(greet())  # Output: Hello! \\n None\n",
    "\n",
    "\n",
    "         \n",
    " #_5_What are iterators in Python and how do they differ from iterables?\n",
    "   -->1. Iterable:\n",
    "         An iterable is any object in Python that can be looped over (e.g., lists, tuples, dictionaries, strings). It has the __iter__() method that returns an iterator.\n",
    "         Example:\n",
    "         my_list = [1, 2, 3]\n",
    "         for num in my_list:  # my_list is iterable\n",
    "         print(num)\n",
    "\n",
    "   -->2. Iterator:\n",
    "         An iterator is an object that represents a stream of data and returns the next element when next() is called. It has both __iter__() and __next__() methods.\n",
    "         Example:\n",
    "         my_list = [1, 2, 3]\n",
    "         iterator = iter(my_list)  # Convert to iterator\n",
    "\n",
    "         print(next(iterator))  # Output: 1\n",
    "         print(next(iterator))  # Output: 2\n",
    "         print(next(iterator))  # Output: 3\n",
    "\n",
    " \n",
    " #_6_Explain the concept of generators in Python and how they are defined?\n",
    "   -->Generators in Python\n",
    "      A generator is a special type of iterator that generates values lazily (one at a time) using the yield keyword instead of return. This makes generators memory efficient since they do not store the entire sequence in memory.\n",
    "   \n",
    "   -->Defining a Generator\n",
    "      A generator function is defined like a normal function but uses yield instead of return to produce values.\n",
    "\n",
    "   -->Example:\n",
    "      def count_up_to(n):\n",
    "         count = 1\n",
    "         while count <= n:\n",
    "            yield count  # Generates value lazily\n",
    "            count += 1\n",
    "\n",
    "      gen = count_up_to(3)  # Create generator object\n",
    "      print(next(gen))  # Output: 1\n",
    "      print(next(gen))  # Output: 2\n",
    "      print(next(gen))  # Output: 3\n",
    "\n",
    " #_7_What are the advantages of using generators over regular functions?  \n",
    "   -->Advantages of Using Generators Over Regular Functions:\n",
    "      -Memory Efficiency\n",
    "      -Lazy Evaluation\n",
    "      -State Retention\n",
    "      -Faster Execution\n",
    "      -Simpler Code\n",
    "   \n",
    "   Example:Generator (Efficient)\n",
    "   def squares_gen(n):\n",
    "      for i in range(n):\n",
    "         yield i * i  # Yields one value at a time\n",
    "\n",
    "   gen = squares_gen(5)\n",
    "   print(list(gen))  # [0, 1, 4, 9, 16]\n",
    "\n",
    " #_8_What is a lambda function in Python and when is it typically used?\n",
    "  -->Lambda Function in Python\n",
    "      A lambda function is an anonymous (nameless) function in Python, defined using the lambda keyword. It can have multiple inputs but only one expression, which is evaluated and returned.\n",
    "\n",
    "  -->When is it Used?\n",
    "      -Short, One-time Use Functions \n",
    "      -Higher-Order Functions\n",
    "      -Sorting and Key Functions \n",
    "      -Inline Function Definitions\n",
    "\n",
    "   Example:\n",
    "   square = lambda x: x * x\n",
    "   print(square(5))  # Output: 25\n",
    "\n",
    "\n",
    " #_9_Explain the purpose and usage of the `map()` function in Python\n",
    "   -->Purpose of map() Function in Python\n",
    "      The map() function is used to apply a function to each item of an iterable (like a list, tuple, etc.) and returns a map object (which can be converted to a list, tuple, etc.). It helps in writing concise and efficient code.\n",
    "\n",
    "   Example:\n",
    "   def square(x):\n",
    "      return x * x\n",
    "\n",
    "   numbers = [1, 2, 3, 4, 5]\n",
    "   squared_numbers = list(map(square, numbers))\n",
    "\n",
    "   print(squared_numbers)  # Output: [1, 4, 9, 16, 25]\n",
    "\n",
    "\n",
    " #_10_What is the difference between `map()`, `reduce()`, and `filter()` functions in Python?\n",
    "   -->1. map(function, iterable) – Applies a function to each item in an iterable and returns a new iterable.\n",
    "         Example:\n",
    "         nums = [1, 2, 3, 4]\n",
    "         squared = list(map(lambda x: x**2, nums))\n",
    "         print(squared)  # Output: [1, 4, 9, 16]\n",
    "\n",
    "   -->2. filter(function, iterable) – Filters elements based on a condition (function returns True).\n",
    "         Example:\n",
    "         nums = [1, 2, 3, 4, 5]\n",
    "         evens = list(filter(lambda x: x % 2 == 0, nums))\n",
    "         print(evens)  # Output: [2, 4]\n",
    "\n",
    "   -->3.reduce(function, iterable) (from functools) – Applies a function cumulatively to reduce an iterable to a single value.\n",
    "         Example:\n",
    "       from functools import reduce\n",
    "       nums = [1, 2, 3, 4]\n",
    "       product = reduce(lambda x, y: x * y, nums)\n",
    "       print(product)  # Output: 24\n",
    "  "
   ]
  },
  {
   "cell_type": "code",
   "execution_count": null,
   "id": "73f69281-d209-4e73-8b9a-e9a1a3406e81",
   "metadata": {},
   "outputs": [],
   "source": []
  },
  {
   "cell_type": "code",
   "execution_count": null,
   "id": "258314de-d660-443e-8ca7-22c4214b595c",
   "metadata": {},
   "outputs": [],
   "source": [
    "#******************************************************************************************************************************"
   ]
  },
  {
   "cell_type": "code",
   "execution_count": null,
   "id": "eb9deae1-8680-4d34-885b-f7ecbea31f7b",
   "metadata": {},
   "outputs": [],
   "source": []
  },
  {
   "cell_type": "code",
   "execution_count": 14,
   "id": "b8d2a36f-c71c-4117-9730-3a3996336bf2",
   "metadata": {},
   "outputs": [],
   "source": [
    "#******************* Python Basics  Practical Questions And Answer ****************************"
   ]
  },
  {
   "cell_type": "code",
   "execution_count": 19,
   "id": "6d1daa3d-7e8c-4802-be3a-807de630b493",
   "metadata": {},
   "outputs": [
    {
     "name": "stdout",
     "output_type": "stream",
     "text": [
      "20\n"
     ]
    }
   ],
   "source": [
    "#1_Write a Python function that takes a list of numbers as input and returns the sum of all even numbers in the list.\n",
    "\n",
    "def sumOfEvenNum(num_list):\n",
    "    s = 0\n",
    "    for i in num_list:\n",
    "        if i % 2 == 0:\n",
    "            s += i\n",
    "    return s\n",
    "\n",
    "# Example usage\n",
    "print(sumOfEvenNum([1, 2, 3, 4, 5, 6, 7, 8]))"
   ]
  },
  {
   "cell_type": "code",
   "execution_count": 14,
   "id": "79c5c91f-5306-4f63-9a43-cad816dcf3d0",
   "metadata": {},
   "outputs": [
    {
     "data": {
      "text/plain": [
       "'sbS'"
      ]
     },
     "execution_count": 14,
     "metadata": {},
     "output_type": "execute_result"
    }
   ],
   "source": [
    "#2_Create a Python function that accepts a string and returns the reverse of that string?\n",
    "\n",
    "def rev_string(str):\n",
    "    return str[::-1]\n",
    "\n",
    "rev_string(\"Sbs\")"
   ]
  },
  {
   "cell_type": "code",
   "execution_count": 3,
   "id": "d262455e-eacc-4c4d-aa73-3a8b6d868e9c",
   "metadata": {},
   "outputs": [
    {
     "name": "stdout",
     "output_type": "stream",
     "text": [
      "[1, 4, 9, 16, 25]\n"
     ]
    }
   ],
   "source": [
    "#3_Implement a Python function that takes a list of integers and returns a new list containing the squares of each number.\n",
    "\n",
    "def square_number(numbers):\n",
    "    return [num ** 2 for num in numbers]\n",
    "\n",
    "numbers=[1,2,3,4,5]\n",
    "squared_numbers=square_number(numbers)\n",
    "print(squared_numbers)"
   ]
  },
  {
   "cell_type": "code",
   "execution_count": 4,
   "id": "f67ea9a2-390a-451e-970d-d33058ef1ab3",
   "metadata": {},
   "outputs": [
    {
     "name": "stdout",
     "output_type": "stream",
     "text": [
      "Prime numbers from 1 to 200: [2, 3, 5, 7, 11, 13, 17, 19, 23, 29, 31, 37, 41, 43, 47, 53, 59, 61, 67, 71, 73, 79, 83, 89, 97, 101, 103, 107, 109, 113, 127, 131, 137, 139, 149, 151, 157, 163, 167, 173, 179, 181, 191, 193, 197, 199]\n"
     ]
    }
   ],
   "source": [
    "#4_Write a Python function that checks if a given number is prime or not from 1 to 200?\n",
    "\n",
    "def is_prime(n):\n",
    "    if n < 2:\n",
    "        return False\n",
    "    for i in range(2, int(n ** 0.5) + 1):\n",
    "        if n % i == 0:\n",
    "            return False\n",
    "    return True\n",
    "\n",
    "# Checking prime numbers from 1 to 200\n",
    "prime_numbers = [n for n in range(1, 201) if is_prime(n)]\n",
    "print(\"Prime numbers from 1 to 200:\", prime_numbers)\n"
   ]
  },
  {
   "cell_type": "code",
   "execution_count": 5,
   "id": "ed6221bc-5f38-43f2-b50c-9bab6eda8c8f",
   "metadata": {},
   "outputs": [
    {
     "name": "stdout",
     "output_type": "stream",
     "text": [
      "0 1 1 2 3 5 8 13 21 34 "
     ]
    }
   ],
   "source": [
    "#5_. Create an iterator class in Python that generates the Fibonacci sequence up to a specified number of terms.\n",
    "\n",
    "class FibonacciIterator:\n",
    "    def __init__(self, n_terms):\n",
    "        self.n_terms = n_terms\n",
    "        self.a, self.b = 0, 1\n",
    "        self.count = 0\n",
    "\n",
    "    def __iter__(self):\n",
    "        return self\n",
    "\n",
    "    def __next__(self):\n",
    "        if self.count >= self.n_terms:\n",
    "            raise StopIteration\n",
    "        fib_number = self.a\n",
    "        self.a, self.b = self.b, self.a + self.b\n",
    "        self.count += 1\n",
    "        return fib_number\n",
    "\n",
    "# Example usage\n",
    "n = 10\n",
    "fib_iter = FibonacciIterator(n)\n",
    "for num in fib_iter:\n",
    "    print(num, end=\" \")  # Output: 0 1 1 2 3 5 8 13 21 34\n"
   ]
  },
  {
   "cell_type": "code",
   "execution_count": 6,
   "id": "4bf06aa6-d602-4073-a96f-d7999eb4e35c",
   "metadata": {},
   "outputs": [
    {
     "name": "stdout",
     "output_type": "stream",
     "text": [
      "1\n",
      "2\n",
      "4\n",
      "8\n",
      "16\n",
      "32\n"
     ]
    }
   ],
   "source": [
    "#6_. Write a generator function in Python that yields the powers of 2 up to a given exponent.\n",
    "\n",
    "def powers_of_2(exponent):\n",
    "    for i in range(exponent + 1):\n",
    "        yield 2 ** i\n",
    "\n",
    "for power in powers_of_2(5):\n",
    "    print(power)  # Output: 1, 2, 4, 8, 16, 32\n"
   ]
  },
  {
   "cell_type": "code",
   "execution_count": 7,
   "id": "36de551b-4356-4773-af62-4fc4081f8e18",
   "metadata": {},
   "outputs": [
    {
     "name": "stdout",
     "output_type": "stream",
     "text": [
      "Hello Guys...How are you....\n"
     ]
    }
   ],
   "source": [
    "#7_ Implement a generator function that reads a file line by line and yields each line as a string.\n",
    "\n",
    "def read_file_line_by_line(file_path):\n",
    "    with open(file_path, 'r', encoding='utf-8') as file:\n",
    "        for line in file:\n",
    "            yield line.strip()  \n",
    "            \n",
    "\n",
    "file_path = \"example_7.txt\"  \n",
    "for line in read_file_line_by_line(file_path):\n",
    "    print(line)  \n"
   ]
  },
  {
   "cell_type": "code",
   "execution_count": 8,
   "id": "dce85fc5-cf31-48c3-858f-e7a95de57d4a",
   "metadata": {},
   "outputs": [
    {
     "name": "stdout",
     "output_type": "stream",
     "text": [
      "[(2, 1), (3, 2), (1, 5), (4, 8)]\n"
     ]
    }
   ],
   "source": [
    "#8_Use a lambda function in Python to sort a list of tuples based on the second element of each tuple.\n",
    "\n",
    "\n",
    "data = [(1, 5), (3, 2), (4, 8), (2, 1)]\n",
    "\n",
    "sorted_data = sorted(data, key=lambda x: x[1])\n",
    "\n",
    "print(sorted_data)  \n"
   ]
  },
  {
   "cell_type": "code",
   "execution_count": 9,
   "id": "ba9640e9-2228-417d-a05f-b617807a343c",
   "metadata": {},
   "outputs": [
    {
     "name": "stdout",
     "output_type": "stream",
     "text": [
      "Celsius: [0, 20, 37, 100, -10, 15.5]\n",
      "Fahrenheit: [32.0, 68.0, 98.6, 212.0, 14.0, 59.9]\n"
     ]
    }
   ],
   "source": [
    "#9_ Write a Python program that uses `map()` to convert a list of temperatures from Celsius to Fahrenheit.\n",
    "\n",
    "\n",
    "def celsius_to_fahrenheit(celsius):\n",
    "    return (celsius * 9/5) + 32\n",
    "\n",
    "celsius_temperatures = [0, 20, 37, 100, -10, 15.5]\n",
    "\n",
    "fahrenheit_temperatures = list(map(celsius_to_fahrenheit, celsius_temperatures))\n",
    "\n",
    "print(\"Celsius:\", celsius_temperatures)\n",
    "print(\"Fahrenheit:\", fahrenheit_temperatures)\n"
   ]
  },
  {
   "cell_type": "code",
   "execution_count": 10,
   "id": "a62d07aa-dd40-4f1a-81da-5858db28f56f",
   "metadata": {},
   "outputs": [
    {
     "name": "stdout",
     "output_type": "stream",
     "text": [
      "Original String: Hello Guys, how are you doing today?\n",
      "String without vowels: Hll Gys, hw r y dng tdy?\n"
     ]
    }
   ],
   "source": [
    "#10_ Create a Python program that uses `filter()` to remove all the vowels from a given string.\n",
    "\n",
    "def is_not_vowel(char):\n",
    "    return char.lower() not in 'aeiou'\n",
    "\n",
    "# Input string\n",
    "input_string = \"Hello Guys, how are you doing today?\"\n",
    "\n",
    "filtered_string = \"\".join(filter(is_not_vowel, input_string))\n",
    "\n",
    "print(\"Original String:\", input_string)\n",
    "print(\"String without vowels:\", filtered_string)\n"
   ]
  },
  {
   "cell_type": "code",
   "execution_count": 18,
   "id": "2bd2a2aa-d532-4e05-b2a6-45940d8f8b19",
   "metadata": {},
   "outputs": [
    {
     "name": "stdout",
     "output_type": "stream",
     "text": [
      "[(34587, 163.8), (98762, 284.0), (77226, 108.85000000000001), (88112, 84.97)]\n"
     ]
    }
   ],
   "source": [
    "#11_ Write a Python program, which returns a list with 2-tuples. Each tuple consists of the order number and the \n",
    "     #product of the price per item and the quantity. The product should be increased by 10,- € if the value of the \n",
    "     #order is smaller than 100,00 €.\n",
    " #Write a Python program using lambda and map\n",
    "\n",
    "orders = [\n",
    "    (34587, \"Learning Python, Mark Lutz\", 4, 40.95),\n",
    "    (98762, \"Programming Python, Mark Lutz\", 5, 56.80),\n",
    "    (77226, \"Head First Python, Paul Barry\", 3, 32.95),\n",
    "    (88112, \"Einführung in Python3, Bernd Klein\", 3, 24.99)\n",
    "]\n",
    "\n",
    "processed_orders = list(map(lambda order: \n",
    "                            (order[0], order[2] * order[3] + (10 if order[2] * order[3] < 100 else 0)), \n",
    "                            orders))\n",
    "\n",
    "print(processed_orders)\n"
   ]
  },
  {
   "cell_type": "code",
   "execution_count": null,
   "id": "ea90f158-3612-400e-ad6e-bef48d0c2505",
   "metadata": {},
   "outputs": [],
   "source": []
  }
 ],
 "metadata": {
  "kernelspec": {
   "display_name": "Python 3 (ipykernel)",
   "language": "python",
   "name": "python3"
  },
  "language_info": {
   "codemirror_mode": {
    "name": "ipython",
    "version": 3
   },
   "file_extension": ".py",
   "mimetype": "text/x-python",
   "name": "python",
   "nbconvert_exporter": "python",
   "pygments_lexer": "ipython3",
   "version": "3.13.1"
  }
 },
 "nbformat": 4,
 "nbformat_minor": 5
}
